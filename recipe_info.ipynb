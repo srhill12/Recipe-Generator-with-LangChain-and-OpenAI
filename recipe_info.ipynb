{
 "cells": [
  {
   "cell_type": "code",
   "execution_count": 1,
   "metadata": {},
   "outputs": [],
   "source": [
    "# Imports for loading environment variables.\n",
    "from dotenv import load_dotenv\n",
    "import os"
   ]
  },
  {
   "cell_type": "code",
   "execution_count": 2,
   "metadata": {},
   "outputs": [],
   "source": [
    "# Load environment variables.\n",
    "load_dotenv()\n",
    "\n",
    "# Set the model name for our LLMs.\n",
    "OPENAI_MODEL = \"gpt-3.5-turbo\"\n",
    "# Store the API key in a variable.\n",
    "OPENAI_API_KEY = os.getenv(\"OPENAI_API_KEY\")"
   ]
  },
  {
   "cell_type": "code",
   "execution_count": 3,
   "metadata": {},
   "outputs": [],
   "source": [
    "# Additional imports for list parser.\n",
    "from langchain_openai import ChatOpenAI\n",
    "from langchain.output_parsers import CommaSeparatedListOutputParser"
   ]
  },
  {
   "cell_type": "code",
   "execution_count": 4,
   "metadata": {},
   "outputs": [],
   "source": [
    "# Initialize the model.\n",
    "llm=ChatOpenAI(openai_api_key=OPENAI_API_KEY, model_name=OPENAI_MODEL, temperature=0.9)"
   ]
  },
  {
   "cell_type": "code",
   "execution_count": 5,
   "metadata": {},
   "outputs": [],
   "source": [
    "# Initialize the output parser.\n",
    "parser = CommaSeparatedListOutputParser()"
   ]
  },
  {
   "cell_type": "code",
   "execution_count": 6,
   "metadata": {},
   "outputs": [
    {
     "name": "stdout",
     "output_type": "stream",
     "text": [
      "Your response should be a list of comma separated values, eg: `foo, bar, baz` or `foo,bar,baz`\n"
     ]
    }
   ],
   "source": [
    "# Get the output format instructions.\n",
    "instructions = parser.get_format_instructions()\n",
    "print(instructions)"
   ]
  },
  {
   "cell_type": "code",
   "execution_count": 7,
   "metadata": {},
   "outputs": [],
   "source": [
    "# Define a query as a string, combining with the instructions.\n",
    "query = \"List 3 recipes.\" + \"\\n\\n\" + instructions"
   ]
  },
  {
   "cell_type": "code",
   "execution_count": 8,
   "metadata": {},
   "outputs": [
    {
     "name": "stdout",
     "output_type": "stream",
     "text": [
      "1. Spaghetti Aglio e Olio, \n",
      "2. BBQ Pulled Pork Sandwiches, \n",
      "3. Chocolate Chip Cookies\n"
     ]
    }
   ],
   "source": [
    "# Pass the query to the invoke method.\n",
    "result = llm.invoke(query)\n",
    "print(result.content)"
   ]
  },
  {
   "cell_type": "code",
   "execution_count": 9,
   "metadata": {},
   "outputs": [],
   "source": [
    "# Parse the result.\n",
    "data = parser.parse(result.content)\n"
   ]
  },
  {
   "cell_type": "code",
   "execution_count": 10,
   "metadata": {},
   "outputs": [
    {
     "name": "stdout",
     "output_type": "stream",
     "text": [
      "Here are some recipes:\n",
      "1. 1. Spaghetti Aglio e Olio\n",
      "2. 2. BBQ Pulled Pork Sandwiches\n",
      "3. 3. Chocolate Chip Cookies\n"
     ]
    }
   ],
   "source": [
    "# Display the recipe names for the user.\n",
    "#print(data)\n",
    "print(\"Here are some recipes:\")\n",
    "for idx, recipe in enumerate(data):\n",
    "    print(f\"{idx + 1}. {recipe}\")"
   ]
  },
  {
   "cell_type": "code",
   "execution_count": 11,
   "metadata": {},
   "outputs": [],
   "source": [
    "# Prompt the user for a recipe number.\n",
    "recipe_number = int(input(\"Enter the number of the recipe you want more information on: \")) - 1"
   ]
  },
  {
   "cell_type": "code",
   "execution_count": 12,
   "metadata": {},
   "outputs": [],
   "source": [
    "# Get the matching recipe name.\n",
    "selected_recipe = data[recipe_number]"
   ]
  },
  {
   "cell_type": "code",
   "execution_count": 13,
   "metadata": {},
   "outputs": [],
   "source": [
    "# Define a query as a string, combining with the recipe name.\n",
    "detailed_query = f\"Provide a detailed recipe for {selected_recipe}.\""
   ]
  },
  {
   "cell_type": "code",
   "execution_count": 14,
   "metadata": {},
   "outputs": [
    {
     "name": "stdout",
     "output_type": "stream",
     "text": [
      "Ingredients:\n",
      "- 2 pounds pork shoulder\n",
      "- 1 cup barbecue sauce\n",
      "- 1/2 cup chicken or beef broth\n",
      "- 1/4 cup brown sugar\n",
      "- 1 tablespoon Worcestershire sauce\n",
      "- 1 tablespoon apple cider vinegar\n",
      "- 1 teaspoon garlic powder\n",
      "- 1 teaspoon onion powder\n",
      "- 1 teaspoon smoked paprika\n",
      "- 1 teaspoon salt\n",
      "- 1/2 teaspoon black pepper\n",
      "- Hamburger buns\n",
      "- Coleslaw (optional)\n",
      "\n",
      "Instructions:\n",
      "1. In a slow cooker, combine the barbecue sauce, broth, brown sugar, Worcestershire sauce, apple cider vinegar, garlic powder, onion powder, smoked paprika, salt, and black pepper. Stir to combine.\n",
      "\n",
      "2. Add the pork shoulder to the slow cooker and coat with the sauce mixture. Cover and cook on low for 8 hours or high for 4 hours, until the pork is tender and easy to shred.\n",
      "\n",
      "3. Once the pork is cooked, remove it from the slow cooker and shred it using two forks. Return the shredded pork to the sauce in the slow cooker and stir to combine.\n",
      "\n",
      "4. Toast the hamburger buns in a skillet or toaster oven until golden brown.\n",
      "\n",
      "5. To assemble the sandwiches, place a generous portion of the BBQ pulled pork on the bottom half of each bun. Top with coleslaw, if desired, and cover with the top half of the bun.\n",
      "\n",
      "6. Serve the BBQ pulled pork sandwiches with additional barbecue sauce on the side for dipping, if desired.\n",
      "\n",
      "Enjoy your delicious BBQ pulled pork sandwiches!\n"
     ]
    }
   ],
   "source": [
    "# Pass the query to the invoke method, and print the result.\n",
    "result = llm.invoke(detailed_query)\n",
    "print(result.content)"
   ]
  }
 ],
 "metadata": {
  "kernelspec": {
   "display_name": "Python 3",
   "language": "python",
   "name": "python3"
  },
  "language_info": {
   "codemirror_mode": {
    "name": "ipython",
    "version": 3
   },
   "file_extension": ".py",
   "mimetype": "text/x-python",
   "name": "python",
   "nbconvert_exporter": "python",
   "pygments_lexer": "ipython3",
   "version": "3.10.13"
  }
 },
 "nbformat": 4,
 "nbformat_minor": 2
}
